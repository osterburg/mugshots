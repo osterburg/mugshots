{
 "cells": [
  {
   "cell_type": "code",
   "execution_count": null,
   "metadata": {},
   "outputs": [],
   "source": [
    "import os\n",
    "import re\n",
    "import h5py\n",
    "import shutil\n",
    "import skimage\n",
    "import numpy as np\n",
    "\n",
    "from glob import glob\n",
    "from tqdm import tqdm\n",
    "tqdm.pandas(desc=\"progress-bar\")\n",
    "\n",
    "import matplotlib.pyplot as plt"
   ]
  },
  {
   "cell_type": "markdown",
   "metadata": {},
   "source": [
    "### Download dataset and unpack it"
   ]
  },
  {
   "cell_type": "code",
   "execution_count": null,
   "metadata": {},
   "outputs": [],
   "source": [
    "_URL = 'https://s3.amazonaws.com/nist-srd/SD18/sd18.zip'\n",
    "\n",
    "path_to_zip = tf.keras.utils.get_file('sd18.zip', origin=_URL, extract=True)\n",
    "PATH = os.path.join(os.path.dirname(path_to_zip), 'sd18/')"
   ]
  },
  {
   "cell_type": "markdown",
   "metadata": {},
   "source": [
    "### Orginize the images"
   ]
  },
  {
   "cell_type": "code",
   "execution_count": null,
   "metadata": {},
   "outputs": [],
   "source": [
    "if not os.path.isdir('data'):\n",
    "    os.mkdir('data')\n",
    "\n",
    "filenames = glob(PATH + 'single/f1_p1/*/*.png')\n",
    "for filename in tqdm(filenames):\n",
    "    indx = filename.split('/')[-1].split('_')[0]\n",
    "    # remove leading zeros from index\n",
    "    indx = re.sub(r'(?<!\\d)0+', '', indx)\n",
    "    side = filename.split('/')[-1].split('_')[2].split('.')[0].lower()\n",
    "    new_file = 'data/mugshot_{}.{}.png'.format(side, indx)\n",
    "    shutil.copyfile(filename, new_file)"
   ]
  },
  {
   "cell_type": "code",
   "execution_count": null,
   "metadata": {},
   "outputs": [],
   "source": [
    "# Convert Grayscale to RGB \n",
    "filenames = glob('data/*.png')\n",
    "for filename in tqdm(filenames):\n",
    "    im = skimage.io.imread(filename)\n",
    "    im = skimage.color.gray2rgb(im)\n",
    "    im = skimage.transform.resize(im, (256, 256), anti_aliasing=True)\n",
    "    im = skimage.util.img_as_ubyte(im)\n",
    "    skimage.io.imsave(filename, im)"
   ]
  },
  {
   "cell_type": "code",
   "execution_count": null,
   "metadata": {},
   "outputs": [],
   "source": [
    "# Flip L to R\n",
    "filenames = glob('data//mugshot_l.*.png')\n",
    "for filename in tqdm(filenames):\n",
    "    im = skimage.io.imread(filename)\n",
    "    im = np.fliplr(im)\n",
    "    skimage.io.imsave(filename, im)\n",
    "    # rename file\n",
    "    new_filename = filename.replace('_l', '_r')\n",
    "    os.rename(filename, new_filename)"
   ]
  },
  {
   "cell_type": "markdown",
   "metadata": {},
   "source": [
    "### Save the image dataset into a HDF5"
   ]
  },
  {
   "cell_type": "code",
   "execution_count": null,
   "metadata": {},
   "outputs": [],
   "source": [
    "hdf5_path = 'data/dataset.hdf5'\n",
    "frnt_path = 'data/mugshot_f.*.png'\n",
    "side_path = 'data/mugshot_r.*.png'\n",
    "\n",
    "frnt = glob(frnt_path)\n",
    "side = glob(side_path)\n",
    "\n",
    "train_inpt = frnt[0:int(0.8*len(frnt))]\n",
    "train_real = side[0:int(0.8*len(side))]\n",
    "test_inpt = frnt[int(0.8*len(frnt)):]\n",
    "test_real = side[int(0.8*len(side)):]"
   ]
  },
  {
   "cell_type": "code",
   "execution_count": null,
   "metadata": {},
   "outputs": [],
   "source": [
    "# Define an array for each of train and test set with the shape\n",
    "# (number of data, image_height, image_width, image_depth)\n",
    "train_shape = (len(train_inpt), 256, 256, 3)\n",
    "test_shape = (len(test_inpt), 256, 256, 3)\n",
    "    \n",
    "# open a hdf5 file and create earrays\n",
    "hdf5_file = h5py.File(hdf5_path, mode='w')\n",
    "\n",
    "hdf5_file.create_dataset(\"train_inpt\", train_shape, np.int8)\n",
    "hdf5_file.create_dataset(\"train_real\", train_shape, np.int8)\n",
    "hdf5_file.create_dataset(\"test_inpt\", test_shape, np.int8)\n",
    "hdf5_file.create_dataset(\"test_real\", test_shape, np.int8)"
   ]
  },
  {
   "cell_type": "code",
   "execution_count": null,
   "metadata": {},
   "outputs": [],
   "source": [
    "for i in range(len(train_inpt)):\n",
    "    img = skimage.io.imread(train_inpt[i])\n",
    "    hdf5_file[\"train_inpt\"][i, ...] = img[None]\n",
    "    img = skimage.io.imread(train_real[i])\n",
    "    hdf5_file[\"train_real\"][i, ...] = img[None]\n",
    "\n",
    "for i in range(len(test_inpt)):\n",
    "    img = skimage.io.imread(test_inpt[i])\n",
    "    hdf5_file[\"test_inpt\"][i, ...] = img[None]\n",
    "    img = skimage.io.imread(test_real[i])\n",
    "    hdf5_file[\"test_real\"][i, ...] = img[None]\n",
    "    \n",
    "hdf5_file.close()"
   ]
  },
  {
   "cell_type": "markdown",
   "metadata": {},
   "source": [
    "### Check if the data is saved properly in the HDF5 file"
   ]
  },
  {
   "cell_type": "code",
   "execution_count": null,
   "metadata": {},
   "outputs": [],
   "source": [
    "# open the hdf5 file\n",
    "hdf5_path = 'data/dataset.hdf5'\n",
    "hdf5_file = h5py.File(hdf5_path, 'r')\n",
    "\n",
    "# Get total number of samples\n",
    "num_data = hdf5_file['train_inpt'].shape[0]\n",
    "print(num_data)"
   ]
  },
  {
   "cell_type": "markdown",
   "metadata": {},
   "source": [
    "### Cleaning up behind me"
   ]
  },
  {
   "cell_type": "code",
   "execution_count": null,
   "metadata": {},
   "outputs": [],
   "source": [
    "# Removing all png images\n",
    "files = glob('data/*.png')\n",
    "for file in files:\n",
    "    os.remove(file)\n",
    "    \n",
    "# Remove downloaded data\n",
    "shutil.rmtree(PATH)"
   ]
  },
  {
   "cell_type": "code",
   "execution_count": null,
   "metadata": {},
   "outputs": [],
   "source": []
  },
  {
   "cell_type": "code",
   "execution_count": null,
   "metadata": {},
   "outputs": [],
   "source": []
  },
  {
   "cell_type": "code",
   "execution_count": null,
   "metadata": {},
   "outputs": [],
   "source": []
  }
 ],
 "metadata": {
  "kernelspec": {
   "display_name": "Python 3",
   "language": "python",
   "name": "python3"
  },
  "language_info": {
   "codemirror_mode": {
    "name": "ipython",
    "version": 3
   },
   "file_extension": ".py",
   "mimetype": "text/x-python",
   "name": "python",
   "nbconvert_exporter": "python",
   "pygments_lexer": "ipython3",
   "version": "3.7.3"
  }
 },
 "nbformat": 4,
 "nbformat_minor": 2
}
